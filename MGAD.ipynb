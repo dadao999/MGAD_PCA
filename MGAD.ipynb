{
 "cells": [
  {
   "cell_type": "code",
   "execution_count": 1,
   "metadata": {},
   "outputs": [],
   "source": [
    "# Import Some Modules\n",
    "import numpy as np\n",
    "import scipy.io as sio\n",
    "import pandas as pd\n",
    "import seaborn as sns\n",
    "\n",
    "\n",
    "import matplotlib.pyplot as plt\n",
    "import matplotlib; matplotlib.style.use('ggplot')\n",
    "\n",
    "# inline plots\n",
    "%matplotlib inline"
   ]
  },
  {
   "cell_type": "code",
   "execution_count": 10,
   "metadata": {},
   "outputs": [
    {
     "name": "stdout",
     "output_type": "stream",
     "text": [
      "((3686, 400), (3686,))\n"
     ]
    }
   ],
   "source": [
    "raw_speech = sio.loadmat('speech.mat')\n",
    "speech_vec = raw_speech['X']\n",
    "speech_type = raw_speech['y'].T[0].T\n",
    "print(speech_vec.shape, speech_type.shape)"
   ]
  },
  {
   "cell_type": "code",
   "execution_count": 11,
   "metadata": {},
   "outputs": [
    {
     "data": {
      "text/plain": [
       "<matplotlib.axes._subplots.AxesSubplot at 0x7f10ae85e250>"
      ]
     },
     "execution_count": 11,
     "metadata": {},
     "output_type": "execute_result"
    },
    {
     "data": {
      "image/png": "[encoded data removed]",
      "text/plain": [
       "<matplotlib.figure.Figure at 0x7f10b27c4c50>"
      ]
     },
     "metadata": {},
     "output_type": "display_data"
    }
   ],
   "source": [
    "pd.DataFrame(speech_vec)[109].hist(bins = 100)"
   ]
  },
  {
   "cell_type": "code",
   "execution_count": 12,
   "metadata": {
    "collapsed": true
   },
   "outputs": [],
   "source": [
    "from scipy.stats import multivariate_normal\n",
    "from sklearn.metrics import f1_score\n",
    "\n",
    "def feature_normalize(dataset):\n",
    "    mu = np.mean(dataset,axis=0)\n",
    "    sigma = np.std(dataset,axis=0)\n",
    "    return (dataset - mu)/sigma\n",
    "\n",
    "def estimateGaussian(dataset):\n",
    "    mu = np.mean(dataset, axis=0)\n",
    "    sigma = np.cov(dataset.T)\n",
    "    return mu, sigma\n",
    "    \n",
    "def multivariateGaussian(dataset,mu,sigma):\n",
    "    p = multivariate_normal(mean=mu, cov=sigma)\n",
    "    return p.pdf(dataset)"
   ]
  },
  {
   "cell_type": "code",
   "execution_count": 13,
   "metadata": {
    "scrolled": false
   },
   "outputs": [],
   "source": [
    "norm_speech_vec = feature_normalize(speech_vec)\n",
    "mu, sigma = estimateGaussian(norm_speech_vec)"
   ]
  },
  {
   "cell_type": "code",
   "execution_count": 14,
   "metadata": {},
   "outputs": [
    {
     "data": {
      "text/plain": [
       "count     3.686000e+03\n",
       "mean     1.057444e-179\n",
       "std       0.000000e+00\n",
       "min      5.056260e-298\n",
       "25%      1.825936e-248\n",
       "50%      3.440977e-233\n",
       "75%      4.993807e-212\n",
       "max      3.822815e-176\n",
       "dtype: float64"
      ]
     },
     "execution_count": 14,
     "metadata": {},
     "output_type": "execute_result"
    }
   ],
   "source": [
    "result = multivariateGaussian(norm_speech_vec,mu,sigma)\n",
    "pd.Series(result).describe()"
   ]
  },
  {
   "cell_type": "code",
   "execution_count": 16,
   "metadata": {},
   "outputs": [
    {
     "data": {
      "text/plain": [
       "(0.032576769025367158, array(3.8228145169813747e-179))"
      ]
     },
     "execution_count": 16,
     "metadata": {},
     "output_type": "execute_result"
    }
   ],
   "source": [
    "def selectThresholdByCV(probs,gt):\n",
    "    best_epsilon = 0\n",
    "    best_f1 = 0\n",
    "    f = 0\n",
    "    stepsize = (max(probs) - min(probs)) / 1000;\n",
    "    epsilons = np.arange(min(probs),max(probs),stepsize)\n",
    "    for epsilon in np.nditer(epsilons):\n",
    "        predictions = (probs < epsilon)\n",
    "        f = f1_score(gt, predictions, average = \"binary\")\n",
    "        if f > best_f1:\n",
    "            best_f1 = f\n",
    "            best_epsilon = epsilon\n",
    "    return best_f1, best_epsilon\n",
    "\n",
    "selectThresholdByCV(result, speech_type)"
   ]
  },
  {
   "cell_type": "code",
   "execution_count": 44,
   "metadata": {},
   "outputs": [],
   "source": [
    "X = norm_speech_vec[:2000]\n",
    "Y = speech_type[:2000]\n",
    "Xtest = norm_speech_vec[2000:]\n",
    "Ytest = speech_type[2000:]"
   ]
  },
  {
   "cell_type": "code",
   "execution_count": 45,
   "metadata": {},
   "outputs": [
    {
     "name": "stdout",
     "output_type": "stream",
     "text": [
      "Iteration 1, loss = 0.48273540\n",
      "Iteration 2, loss = 0.20711228\n",
      "Iteration 3, loss = 0.11465486\n",
      "Iteration 4, loss = 0.07765897\n",
      "Iteration 5, loss = 0.05780766\n",
      "Iteration 6, loss = 0.04507210\n",
      "Iteration 7, loss = 0.03682136\n",
      "Iteration 8, loss = 0.03057506\n",
      "Iteration 9, loss = 0.02583990\n",
      "Iteration 10, loss = 0.02231528\n",
      "Iteration 11, loss = 0.01935618\n",
      "Iteration 12, loss = 0.01706123\n",
      "Iteration 13, loss = 0.01509758\n",
      "Iteration 14, loss = 0.01347901\n",
      "Iteration 15, loss = 0.01213049\n",
      "Iteration 16, loss = 0.01098417\n",
      "Iteration 17, loss = 0.00998644\n",
      "Iteration 18, loss = 0.00911242\n",
      "Iteration 19, loss = 0.00834644\n",
      "Iteration 20, loss = 0.00768790\n",
      "Iteration 21, loss = 0.00711525\n",
      "Iteration 22, loss = 0.00658648\n",
      "Iteration 23, loss = 0.00613495\n",
      "Iteration 24, loss = 0.00571451\n",
      "Iteration 25, loss = 0.00534428\n",
      "Iteration 26, loss = 0.00500419\n",
      "Iteration 27, loss = 0.00469928\n",
      "Iteration 28, loss = 0.00442392\n",
      "Iteration 29, loss = 0.00416343\n",
      "Iteration 30, loss = 0.00394480\n",
      "Iteration 31, loss = 0.00372624\n",
      "Iteration 32, loss = 0.00353541\n",
      "Iteration 33, loss = 0.00335196\n",
      "Iteration 34, loss = 0.00319048\n",
      "Iteration 35, loss = 0.00303449\n",
      "Iteration 36, loss = 0.00289353\n",
      "Iteration 37, loss = 0.00276029\n",
      "Iteration 38, loss = 0.00263226\n",
      "Iteration 39, loss = 0.00252125\n",
      "Iteration 40, loss = 0.00241161\n",
      "Iteration 41, loss = 0.00230934\n",
      "Iteration 42, loss = 0.00221676\n",
      "Iteration 43, loss = 0.00212704\n",
      "Iteration 44, loss = 0.00204480\n",
      "Training loss did not improve more than tol=0.000100 for two consecutive epochs. Stopping.\n"
     ]
    },
    {
     "data": {
      "text/plain": [
       "MLPClassifier(activation='relu', alpha=1e-05, batch_size='auto', beta_1=0.9,\n",
       "       beta_2=0.999, early_stopping=False, epsilon=1e-08,\n",
       "       hidden_layer_sizes=(100,), learning_rate='constant',\n",
       "       learning_rate_init=0.001, max_iter=200, momentum=0.9,\n",
       "       nesterovs_momentum=True, power_t=0.5, random_state=1, shuffle=True,\n",
       "       solver='adam', tol=0.0001, validation_fraction=0.1, verbose=True,\n",
       "       warm_start=False)"
      ]
     },
     "execution_count": 45,
     "metadata": {},
     "output_type": "execute_result"
    }
   ],
   "source": [
    "from sklearn.neural_network import MLPClassifier\n",
    "clf = MLPClassifier(solver='adam', alpha=1e-5,\n",
    "                    hidden_layer_sizes=(100,), random_state=1,verbose=True)\n",
    "clf.fit(X,Y)"
   ]
  },
  {
   "cell_type": "code",
   "execution_count": 46,
   "metadata": {},
   "outputs": [
    {
     "data": {
      "text/plain": [
       "1662"
      ]
     },
     "execution_count": 46,
     "metadata": {},
     "output_type": "execute_result"
    }
   ],
   "source": [
    "(clf.predict(Xtest) == Ytest).sum()\n"
   ]
  },
  {
   "cell_type": "code",
   "execution_count": 47,
   "metadata": {},
   "outputs": [
    {
     "data": {
      "text/plain": [
       "1686"
      ]
     },
     "execution_count": 47,
     "metadata": {},
     "output_type": "execute_result"
    }
   ],
   "source": [
    "Ytest.shape[0]"
   ]
  },
  {
   "cell_type": "code",
   "execution_count": null,
   "metadata": {
    "collapsed": true
   },
   "outputs": [],
   "source": []
  }
 ],
 "metadata": {
  "kernelspec": {
   "display_name": "Python 2",
   "language": "python",
   "name": "python2"
  },
  "language_info": {
   "codemirror_mode": {
    "name": "ipython",
    "version": 2
   },
   "file_extension": ".py",
   "mimetype": "text/x-python",
   "name": "python",
   "nbconvert_exporter": "python",
   "pygments_lexer": "ipython2",
   "version": "2.7.12"
  }
 },
 "nbformat": 4,
 "nbformat_minor": 2
}
